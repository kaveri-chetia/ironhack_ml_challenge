{
 "cells": [
  {
   "cell_type": "code",
   "execution_count": 1,
   "metadata": {},
   "outputs": [],
   "source": [
    "import pandas as pd\n",
    "\n",
    "from sklearn.ensemble import RandomForestRegressor\n",
    "from sklearn.preprocessing import StandardScaler\n",
    "\n",
    "from sklearn.metrics import r2_score, mean_absolute_error, mean_squared_error"
   ]
  },
  {
   "cell_type": "markdown",
   "metadata": {},
   "source": [
    "#### Load Datasets"
   ]
  },
  {
   "cell_type": "code",
   "execution_count": 8,
   "metadata": {},
   "outputs": [],
   "source": [
    "df_train = pd.read_csv('../data/sales.csv')\n",
    "df_test = pd.read_csv('../data/ironkaggle_notarget.csv')"
   ]
  },
  {
   "cell_type": "markdown",
   "metadata": {},
   "source": [
    "#### Clean Data"
   ]
  },
  {
   "cell_type": "code",
   "execution_count": 9,
   "metadata": {},
   "outputs": [],
   "source": [
    "# clean the raw datasets\n",
    "def clean_dataset(df):\n",
    "    df = df.drop(columns=['True_index', 'Store_ID', 'School_holiday'])\n",
    "    df['Date'] = pd.to_datetime(df['Date'], format='%Y-%m-%d')\n",
    "    df = pd.get_dummies(df, columns=['State_holiday']).drop(columns=['State_holiday_0'])\n",
    "    df['Month'] = df['Date'].apply(lambda x: x.month)\n",
    "    df = df.drop(columns=['Date'])\n",
    "    df = pd.get_dummies(df, columns=['Month'])\n",
    "    df = df.drop(columns=['Month_1', 'Month_2', 'Month_3', 'Month_4', 'Month_5', 'Month_6', 'Month_7', 'Month_8', 'Month_9', 'Month_10', 'Month_11'])\n",
    "    return df\n",
    "df_train = clean_dataset(df_train)\n",
    "df_test = clean_dataset(df_test)"
   ]
  },
  {
   "cell_type": "markdown",
   "metadata": {},
   "source": [
    "#### Prepare Data"
   ]
  },
  {
   "cell_type": "code",
   "execution_count": 10,
   "metadata": {},
   "outputs": [],
   "source": [
    "# assign test and train data\n",
    "X_test = df_test\n",
    "X_train = df_train.drop(columns=['Sales'])\n",
    "y_train = df_train['Sales']\n",
    "\n",
    "# normalize features\n",
    "normalizer = StandardScaler()\n",
    "X_train = normalizer.fit_transform(X_train)\n",
    "X_test = normalizer.transform(X_test)"
   ]
  },
  {
   "cell_type": "markdown",
   "metadata": {},
   "source": [
    "#### Model Training"
   ]
  },
  {
   "cell_type": "code",
   "execution_count": 11,
   "metadata": {},
   "outputs": [],
   "source": [
    "# define the model\n",
    "model = RandomForestRegressor(n_estimators=500,\n",
    "                               max_depth=8,\n",
    "                               min_samples_split=2,\n",
    "                               min_samples_leaf=3,\n",
    "                               random_state=42)\n",
    "\n",
    "# train the model\n",
    "model.fit(X_train, y_train)"
   ]
  },
  {
   "cell_type": "markdown",
   "metadata": {},
   "source": [
    "#### Model Application"
   ]
  },
  {
   "cell_type": "code",
   "execution_count": null,
   "metadata": {},
   "outputs": [],
   "source": [
    "# calculate prediction\n",
    "pred = model.predict(X_test)\n",
    "\n",
    "# calculate  scores\n",
    "r2_score =  model.score(X_test, y_test)\n",
    "mae = mean_absolute_error(pred, y_test)\n",
    "mse = mean_squared_error(pred, y_test, squared=False)\n",
    "\n",
    "# print scores\n",
    "print(f\"Model: tbd\")\n",
    "print(f\"R2 score: {r2_score}\")\n",
    "print(f\"MAE: {mae}\")\n",
    "print(f\"MSE: {mse}\")"
   ]
  }
 ],
 "metadata": {
  "kernelspec": {
   "display_name": "base",
   "language": "python",
   "name": "python3"
  },
  "language_info": {
   "codemirror_mode": {
    "name": "ipython",
    "version": 3
   },
   "file_extension": ".py",
   "mimetype": "text/x-python",
   "name": "python",
   "nbconvert_exporter": "python",
   "pygments_lexer": "ipython3",
   "version": "3.11.7"
  }
 },
 "nbformat": 4,
 "nbformat_minor": 2
}
